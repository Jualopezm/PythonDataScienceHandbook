{
  "nbformat": 4,
  "nbformat_minor": 0,
  "metadata": {
    "colab": {
      "name": "Taller_Python.ipynb",
      "provenance": [],
      "collapsed_sections": [
        "jw_nbsVqlIX2",
        "e7mNRQjYqPPu",
        "-UcX1HND1c2g",
        "8T154T8r5a8y",
        "-vp-FntOT8lp",
        "qdYigqnvt8OT"
      ],
      "include_colab_link": true
    },
    "kernelspec": {
      "name": "python3",
      "display_name": "Python 3"
    },
    "language_info": {
      "name": "python"
    }
  },
  "cells": [
    {
      "cell_type": "markdown",
      "metadata": {
        "id": "view-in-github",
        "colab_type": "text"
      },
      "source": [
        "<a href=\"https://colab.research.google.com/github/Jualopezm/PythonDataScienceHandbook/blob/master/Taller_Python.ipynb\" target=\"_parent\"><img src=\"https://colab.research.google.com/assets/colab-badge.svg\" alt=\"Open In Colab\"/></a>"
      ]
    },
    {
      "cell_type": "markdown",
      "source": [
        "## ***Taller introductorio de Python***\n"
      ],
      "metadata": {
        "id": "OxlaroYakgSl"
      }
    },
    {
      "cell_type": "markdown",
      "source": [
        "## ***Tipos de Datos***: *Un tipo de dato establece qué valores puede tomar una variable y qué operaciones se pueden realizar sobre la misma.*\n"
      ],
      "metadata": {
        "id": "jw_nbsVqlIX2"
      }
    },
    {
      "cell_type": "markdown",
      "source": [
        "\n",
        "\n",
        "*   ***String***: Un dato *string* se compone por uno o más caracteres alfanuméricos, lo cual quiere decir que puede componerse de números, letras y caracteres, que se tratarán como texto solamente. Éstos se colocan entre comillas sencillas o dobles.\n",
        "\n",
        "\n"
      ],
      "metadata": {
        "id": "EmMEsfPlq1MU"
      }
    },
    {
      "cell_type": "markdown",
      "source": [
        " \n",
        "\n",
        "*   ***Imprimir o mostrar datos***: Para imprimir o mostrar textos o variales en python debemos usar la función ***print()***.\n",
        "\n",
        "\n"
      ],
      "metadata": {
        "id": "uxtiX4W_rvS3"
      }
    },
    {
      "cell_type": "code",
      "execution_count": null,
      "metadata": {
        "id": "RiGmARXkkfPN"
      },
      "outputs": [],
      "source": [
        "\"Esto es un string\""
      ]
    },
    {
      "cell_type": "code",
      "source": [
        "\"Juan tiene 25 años\""
      ],
      "metadata": {
        "id": "L_OGouyZlJpB"
      },
      "execution_count": null,
      "outputs": []
    },
    {
      "cell_type": "code",
      "source": [
        "'Esto es también un string 6767677 ¿¿¿¿'\n",
        "\n",
        "type('Esto es también un string 6767677 ¿¿¿¿')"
      ],
      "metadata": {
        "id": "_abZkbMNlMVj",
        "colab": {
          "base_uri": "https://localhost:8080/"
        },
        "outputId": "7f9346fa-b386-4a8e-ceb5-4e9f517fbcbe"
      },
      "execution_count": null,
      "outputs": [
        {
          "output_type": "execute_result",
          "data": {
            "text/plain": [
              "str"
            ]
          },
          "metadata": {},
          "execution_count": 37
        }
      ]
    },
    {
      "cell_type": "code",
      "source": [
        "print(\"Juan \"+\"Tiene \"+\"20 \"+\"años\")"
      ],
      "metadata": {
        "id": "sQd6dGuqtCCE",
        "colab": {
          "base_uri": "https://localhost:8080/"
        },
        "outputId": "84d51609-3618-4cab-b430-22e296751600"
      },
      "execution_count": null,
      "outputs": [
        {
          "output_type": "stream",
          "name": "stdout",
          "text": [
            "Juan Tiene 20 años\n"
          ]
        }
      ]
    },
    {
      "cell_type": "code",
      "source": [
        "print(10*\"Pedro \")"
      ],
      "metadata": {
        "id": "81Ti8IEwtZ5T",
        "colab": {
          "base_uri": "https://localhost:8080/"
        },
        "outputId": "f80e07a4-1be3-4391-9564-b8623f1e8b74"
      },
      "execution_count": null,
      "outputs": [
        {
          "output_type": "stream",
          "name": "stdout",
          "text": [
            "Pedro Pedro Pedro Pedro Pedro Pedro Pedro Pedro Pedro Pedro \n"
          ]
        }
      ]
    },
    {
      "cell_type": "code",
      "source": [
        "type('Hola como estás? 1223344455667')"
      ],
      "metadata": {
        "id": "kcks6oZvQt06"
      },
      "execution_count": null,
      "outputs": []
    },
    {
      "cell_type": "markdown",
      "source": [
        "\n",
        "*   ***Integer***: Un dato *int* permite representar números enteros.\n",
        "\n"
      ],
      "metadata": {
        "id": "Ev9tgSmixHeV"
      }
    },
    {
      "cell_type": "code",
      "source": [
        "11509\n",
        "type(11509)"
      ],
      "metadata": {
        "colab": {
          "base_uri": "https://localhost:8080/"
        },
        "id": "8jFYvQvextEI",
        "outputId": "9a14ab55-3ed3-47ae-c424-e9fec3523932"
      },
      "execution_count": null,
      "outputs": [
        {
          "output_type": "execute_result",
          "data": {
            "text/plain": [
              "int"
            ]
          },
          "metadata": {},
          "execution_count": 103
        }
      ]
    },
    {
      "cell_type": "code",
      "source": [
        "-116\n",
        "type(-116)"
      ],
      "metadata": {
        "colab": {
          "base_uri": "https://localhost:8080/"
        },
        "id": "krqFLKTwyBF4",
        "outputId": "071f6612-300b-4222-dc84-dfe7a5f9e064"
      },
      "execution_count": null,
      "outputs": [
        {
          "output_type": "execute_result",
          "data": {
            "text/plain": [
              "int"
            ]
          },
          "metadata": {},
          "execution_count": 104
        }
      ]
    },
    {
      "cell_type": "code",
      "source": [
        "print(4 + 5 + 6343434 + 8) #Sumar enteros"
      ],
      "metadata": {
        "colab": {
          "base_uri": "https://localhost:8080/"
        },
        "id": "69oZAvMtyuCJ",
        "outputId": "5b13a321-a969-44a1-ccaa-57e01d43fd5c"
      },
      "execution_count": null,
      "outputs": [
        {
          "output_type": "stream",
          "name": "stdout",
          "text": [
            "6343451\n"
          ]
        }
      ]
    },
    {
      "cell_type": "code",
      "source": [
        "print(2*10*5*6*89) #Multiplicar enteros"
      ],
      "metadata": {
        "id": "l3-G6kA4yyHq"
      },
      "execution_count": null,
      "outputs": []
    },
    {
      "cell_type": "code",
      "source": [
        "print(2**3) #2^4"
      ],
      "metadata": {
        "colab": {
          "base_uri": "https://localhost:8080/"
        },
        "id": "6wlgKKp4y8nI",
        "outputId": "ac69a532-bc57-43d8-deea-6aa6cbeb4488"
      },
      "execution_count": null,
      "outputs": [
        {
          "output_type": "stream",
          "name": "stdout",
          "text": [
            "8\n"
          ]
        }
      ]
    },
    {
      "cell_type": "code",
      "source": [
        "print(22333445/6) #Dividir"
      ],
      "metadata": {
        "colab": {
          "base_uri": "https://localhost:8080/"
        },
        "id": "TqUV4I8Ty_g0",
        "outputId": "169b1a09-ca74-485f-d917-864afa474461"
      },
      "execution_count": null,
      "outputs": [
        {
          "output_type": "stream",
          "name": "stdout",
          "text": [
            "3722240.8333333335\n"
          ]
        }
      ]
    },
    {
      "cell_type": "code",
      "source": [
        "10/3 #Divisón"
      ],
      "metadata": {
        "colab": {
          "base_uri": "https://localhost:8080/"
        },
        "id": "cKyhDKBA0sAb",
        "outputId": "ca7ecf72-7a52-492f-b18c-aa611365576f"
      },
      "execution_count": null,
      "outputs": [
        {
          "output_type": "execute_result",
          "data": {
            "text/plain": [
              "3.3333333333333335"
            ]
          },
          "metadata": {},
          "execution_count": 109
        }
      ]
    },
    {
      "cell_type": "code",
      "source": [
        "10//3 #División entera"
      ],
      "metadata": {
        "colab": {
          "base_uri": "https://localhost:8080/"
        },
        "id": "Qd5c756I0uFn",
        "outputId": "cc395cc7-e24d-4ec0-8e2d-70c1c7aa0398"
      },
      "execution_count": null,
      "outputs": [
        {
          "output_type": "execute_result",
          "data": {
            "text/plain": [
              "3"
            ]
          },
          "metadata": {},
          "execution_count": 110
        }
      ]
    },
    {
      "cell_type": "code",
      "source": [
        "10 % 3 # Módulo"
      ],
      "metadata": {
        "colab": {
          "base_uri": "https://localhost:8080/"
        },
        "id": "oKOoV4Nk0wGp",
        "outputId": "61dbc7d8-a218-4997-dba3-8de5babe5627"
      },
      "execution_count": null,
      "outputs": [
        {
          "output_type": "execute_result",
          "data": {
            "text/plain": [
              "1"
            ]
          },
          "metadata": {},
          "execution_count": 111
        }
      ]
    },
    {
      "cell_type": "code",
      "source": [
        "25 % 2 #Par o impar"
      ],
      "metadata": {
        "colab": {
          "base_uri": "https://localhost:8080/"
        },
        "id": "qoDS-8ivt3im",
        "outputId": "2648bdc1-6e93-4aec-9078-baf13ce3468d"
      },
      "execution_count": null,
      "outputs": [
        {
          "output_type": "execute_result",
          "data": {
            "text/plain": [
              "1"
            ]
          },
          "metadata": {},
          "execution_count": 43
        }
      ]
    },
    {
      "cell_type": "markdown",
      "source": [
        "*   ***Float***: El formato de dato del tipo *float* se aplica a los números con decimales. "
      ],
      "metadata": {
        "id": "QWngxFPCyIxw"
      }
    },
    {
      "cell_type": "code",
      "source": [
        "35.7"
      ],
      "metadata": {
        "id": "pzecrF4GyjgD",
        "colab": {
          "base_uri": "https://localhost:8080/"
        },
        "outputId": "1d1f71c5-c544-4ad1-f631-4625adf4c222"
      },
      "execution_count": null,
      "outputs": [
        {
          "output_type": "execute_result",
          "data": {
            "text/plain": [
              "35.7"
            ]
          },
          "metadata": {},
          "execution_count": 112
        }
      ]
    },
    {
      "cell_type": "code",
      "source": [
        "2/3\n",
        "type(2/3)"
      ],
      "metadata": {
        "id": "cV2axzDRyoeY",
        "colab": {
          "base_uri": "https://localhost:8080/"
        },
        "outputId": "b7ac040a-ecc4-4dbf-d596-ae91aaca38f8"
      },
      "execution_count": null,
      "outputs": [
        {
          "output_type": "execute_result",
          "data": {
            "text/plain": [
              "float"
            ]
          },
          "metadata": {},
          "execution_count": 45
        }
      ]
    },
    {
      "cell_type": "code",
      "source": [
        "3567.0\n",
        "type(3567.0)"
      ],
      "metadata": {
        "id": "2JSrtPBDRlNk",
        "colab": {
          "base_uri": "https://localhost:8080/"
        },
        "outputId": "f332c2ce-c885-4c75-ffc0-e6813f804553"
      },
      "execution_count": null,
      "outputs": [
        {
          "output_type": "execute_result",
          "data": {
            "text/plain": [
              "int"
            ]
          },
          "metadata": {},
          "execution_count": 47
        }
      ]
    },
    {
      "cell_type": "markdown",
      "source": [
        "*   ***Boolean***: El tipo de dato booleano es en computación aquel que puede representar valores de lógica binaria, esto es 2 valores, que normalmente representan falso o verdadero."
      ],
      "metadata": {
        "id": "g-Tbsg7Gzsyl"
      }
    },
    {
      "cell_type": "code",
      "source": [
        "True"
      ],
      "metadata": {
        "id": "KKgfm7-Fz4v3"
      },
      "execution_count": null,
      "outputs": []
    },
    {
      "cell_type": "code",
      "source": [
        "False"
      ],
      "metadata": {
        "id": "7T9jy8BV0Iym"
      },
      "execution_count": null,
      "outputs": []
    },
    {
      "cell_type": "code",
      "source": [
        "7<3"
      ],
      "metadata": {
        "id": "UrSz3iMm-9rK",
        "colab": {
          "base_uri": "https://localhost:8080/"
        },
        "outputId": "8b4adda3-1be7-45dc-a527-1d6d056faf88"
      },
      "execution_count": null,
      "outputs": [
        {
          "output_type": "execute_result",
          "data": {
            "text/plain": [
              "False"
            ]
          },
          "metadata": {},
          "execution_count": 49
        }
      ]
    },
    {
      "cell_type": "code",
      "source": [
        "45<20"
      ],
      "metadata": {
        "id": "lJ9X5ahU_AnU",
        "colab": {
          "base_uri": "https://localhost:8080/"
        },
        "outputId": "666d5263-76ca-4852-d18d-f5209dbeea50"
      },
      "execution_count": null,
      "outputs": [
        {
          "output_type": "execute_result",
          "data": {
            "text/plain": [
              "False"
            ]
          },
          "metadata": {},
          "execution_count": 50
        }
      ]
    },
    {
      "cell_type": "markdown",
      "source": [
        "*   ***List***: Las listas en Python son un tipo de estructuras de datos muy flexible que guardan de forma ordenada un conjunto de datos que no tiene porque ser del mismo tipo."
      ],
      "metadata": {
        "id": "tyu7-Vav0XBr"
      }
    },
    {
      "cell_type": "code",
      "source": [
        "[0,1,2,3] "
      ],
      "metadata": {
        "id": "SCxg9Qau_tJu"
      },
      "execution_count": null,
      "outputs": []
    },
    {
      "cell_type": "code",
      "source": [
        "[\"a\",\"e\",\"i\",\"o\",\"u\"]"
      ],
      "metadata": {
        "id": "_RfWojYp_yee"
      },
      "execution_count": null,
      "outputs": []
    },
    {
      "cell_type": "code",
      "source": [
        "[123,\"aeiou\",23.67,True,\"2334\",[1,2,3]]\n",
        "\n",
        "type([123,\"aeiou\",23.67,True,\"2334\",[1,2,3]])"
      ],
      "metadata": {
        "id": "iOuzJ6lOSaAK",
        "colab": {
          "base_uri": "https://localhost:8080/"
        },
        "outputId": "80372c40-04ac-44b1-bc73-2aab9d27425d"
      },
      "execution_count": null,
      "outputs": [
        {
          "output_type": "execute_result",
          "data": {
            "text/plain": [
              "list"
            ]
          },
          "metadata": {},
          "execution_count": 51
        }
      ]
    },
    {
      "cell_type": "code",
      "source": [
        "[1,2]\n",
        "[3,4]\n",
        "print([1,2]+[3,4]) "
      ],
      "metadata": {
        "id": "EHg0Wsk_1rbo",
        "colab": {
          "base_uri": "https://localhost:8080/"
        },
        "outputId": "bef70bbe-2e67-4ce0-8cc3-14385f90ffc4"
      },
      "execution_count": null,
      "outputs": [
        {
          "output_type": "stream",
          "name": "stdout",
          "text": [
            "[1, 2, 3, 4]\n"
          ]
        }
      ]
    },
    {
      "cell_type": "code",
      "source": [
        "Lista = [\"a\",\"e\",\"i\",\"o\",\"u\",\"y\",\"u\",\"y\",\"o\",\"n\"]\n",
        "\n",
        "Lista[-3]\n",
        "\n"
      ],
      "metadata": {
        "id": "FbhcAOUGSOkJ",
        "colab": {
          "base_uri": "https://localhost:8080/",
          "height": 35
        },
        "outputId": "0381956b-657f-4ebf-e3a0-5c39004bc3f2"
      },
      "execution_count": null,
      "outputs": [
        {
          "output_type": "execute_result",
          "data": {
            "text/plain": [
              "'y'"
            ],
            "application/vnd.google.colaboratory.intrinsic+json": {
              "type": "string"
            }
          },
          "metadata": {},
          "execution_count": 59
        }
      ]
    },
    {
      "cell_type": "code",
      "source": [
        "lista = [1,2,3,4,5]\n",
        "\n",
        "lista.append(9) #Agregar elementos\n",
        "\n",
        "print(lista)"
      ],
      "metadata": {
        "id": "j6e4fGHY8Vr_",
        "colab": {
          "base_uri": "https://localhost:8080/"
        },
        "outputId": "b81a912e-b3da-4e4d-c98e-f715ebba7a6f"
      },
      "execution_count": null,
      "outputs": [
        {
          "output_type": "stream",
          "name": "stdout",
          "text": [
            "[1, 2, 3, 4, 5, 9]\n"
          ]
        }
      ]
    },
    {
      "cell_type": "code",
      "source": [
        "lista_2 = [\"Rosado\",\"Verde\",\"Amarillo\",\"Gris\",True,122334]\n",
        "\n",
        "lista_2.pop(0) #Eliminar el dato en la posición dada.\n",
        "\n",
        "print(lista_2)"
      ],
      "metadata": {
        "id": "WeZZMY6C8b07",
        "colab": {
          "base_uri": "https://localhost:8080/"
        },
        "outputId": "3508b3c5-01ef-4dbc-fa0c-ce6256939683"
      },
      "execution_count": null,
      "outputs": [
        {
          "output_type": "stream",
          "name": "stdout",
          "text": [
            "['Verde', 'Amarillo', 'Gris', True, 122334]\n"
          ]
        }
      ]
    },
    {
      "cell_type": "code",
      "source": [
        "lista_3 = [\"Rosado\",\"Verde\",\"Amarillo\",\"Gris\",True,122334]\n",
        "\n",
        "lista_3.remove(\"Verde\") #Eliminar el dato dado\n",
        "\n",
        "print(lista_3)"
      ],
      "metadata": {
        "id": "BsC5iKip9JR-",
        "colab": {
          "base_uri": "https://localhost:8080/"
        },
        "outputId": "b74c757e-1c66-41b3-fdbd-c1b3b8fe2b87"
      },
      "execution_count": null,
      "outputs": [
        {
          "output_type": "stream",
          "name": "stdout",
          "text": [
            "['Rosado', 'Amarillo', 'Gris', True, 122334]\n"
          ]
        }
      ]
    },
    {
      "cell_type": "code",
      "source": [
        "lista_4 = [\"Rosado\",\"Verde\",\"Amarillo\",\"Gris\",True,122334]\n",
        "\n",
        "lista_4.reverse() #Cambiar de posición los datos.\n",
        "\n",
        "print(lista_4)"
      ],
      "metadata": {
        "id": "xBbeT2H49SlF",
        "colab": {
          "base_uri": "https://localhost:8080/"
        },
        "outputId": "0131e856-d5c6-4627-b16d-c3c57975c2f4"
      },
      "execution_count": null,
      "outputs": [
        {
          "output_type": "stream",
          "name": "stdout",
          "text": [
            "[122334, True, 'Gris', 'Amarillo', 'Verde', 'Rosado']\n"
          ]
        }
      ]
    },
    {
      "cell_type": "code",
      "source": [
        "lista_5 = [\"Rosado\",\"Verde\",\"Amarillo\",\"Gris\",True,122334,\"Gris\",\"Gris\",\"Gris\",\"Gris\"]\n",
        "\n",
        "lista_5.count(\"Gris\") #Contar el número de veces que aparece el dato dado en la lista.\n",
        "\n",
        "print(lista_5.count(\"Gris\"))\n"
      ],
      "metadata": {
        "id": "mMwIXu2y9YmH",
        "colab": {
          "base_uri": "https://localhost:8080/"
        },
        "outputId": "a430d225-0b29-4bf4-9050-d22798e082e5"
      },
      "execution_count": null,
      "outputs": [
        {
          "output_type": "stream",
          "name": "stdout",
          "text": [
            "5\n"
          ]
        }
      ]
    },
    {
      "cell_type": "code",
      "source": [
        "lista_6 = [1,2,3,4,5,6,\"a\",\"b\",\"c\"]\n",
        "\n",
        "len(lista_6)"
      ],
      "metadata": {
        "colab": {
          "base_uri": "https://localhost:8080/"
        },
        "id": "xJCcpEWPfgV_",
        "outputId": "f74abfa2-cc96-4f8a-af89-c0dfa3bf50c9"
      },
      "execution_count": null,
      "outputs": [
        {
          "output_type": "execute_result",
          "data": {
            "text/plain": [
              "9"
            ]
          },
          "metadata": {},
          "execution_count": 77
        }
      ]
    },
    {
      "cell_type": "markdown",
      "source": [
        "*   ***Tuple***: Un *tupla* es una colección de datos cuyo orden es inalterable. Esto quiere decir que una tupla no puede ser modificada (no se pueden añadir ni eliminar elementos a una tupla)."
      ],
      "metadata": {
        "id": "EVp0JV8E2x_c"
      }
    },
    {
      "cell_type": "code",
      "source": [
        "(1,2,3,4,5,6,7,8,9,10,1,2,3,1,1,1)"
      ],
      "metadata": {
        "id": "8TyJuTCYUsFh",
        "colab": {
          "base_uri": "https://localhost:8080/"
        },
        "outputId": "16c6e1a6-6b9f-4379-d95b-6b608af2ca81"
      },
      "execution_count": null,
      "outputs": [
        {
          "output_type": "execute_result",
          "data": {
            "text/plain": [
              "(1, 2, 3, 4, 5, 6, 7, 8, 9, 10, 1, 2, 3, 1, 1, 1)"
            ]
          },
          "metadata": {},
          "execution_count": 129
        }
      ]
    },
    {
      "cell_type": "code",
      "source": [
        "(1,2,3,4,5,6,7,8,9,10,1,2,3,'a','b','c','d',True, False)\n"
      ],
      "metadata": {
        "id": "DAKyRaOkUt86"
      },
      "execution_count": null,
      "outputs": []
    },
    {
      "cell_type": "code",
      "source": [
        "(\"Bogotá\",\"Medellín\",\"Cali\",\"Barranquila\")\n"
      ],
      "metadata": {
        "id": "zsU25bn2U8Iv",
        "colab": {
          "base_uri": "https://localhost:8080/"
        },
        "outputId": "0cf0acf4-236d-43dc-d9cd-690980ea4d09"
      },
      "execution_count": null,
      "outputs": [
        {
          "output_type": "execute_result",
          "data": {
            "text/plain": [
              "('Bogotá', 'Medellín', 'Cali', 'Barranquila')"
            ]
          },
          "metadata": {},
          "execution_count": 131
        }
      ]
    },
    {
      "cell_type": "code",
      "source": [
        "a=(1,2,3,4,5,6,7,8,9,10,1,2,3,1,1,1)\n",
        "\n",
        "a.count(1)\n",
        "\n",
        "print(a.count(1))"
      ],
      "metadata": {
        "id": "ET1DT5Sb-6ms",
        "colab": {
          "base_uri": "https://localhost:8080/"
        },
        "outputId": "8ff075bf-f367-4658-cd2d-fc465e5d6151"
      },
      "execution_count": null,
      "outputs": [
        {
          "output_type": "stream",
          "name": "stdout",
          "text": [
            "5\n"
          ]
        }
      ]
    },
    {
      "cell_type": "code",
      "source": [
        "b = (\"a\",\"e\",\"i\",\"o\",\"u\")\n",
        "\n",
        "b.index(\"u\") #index me dice la posición del dato dado\n",
        "\n",
        "print(b.index(\"u\"))"
      ],
      "metadata": {
        "id": "acaxMgnj_Moh",
        "colab": {
          "base_uri": "https://localhost:8080/"
        },
        "outputId": "553b88f6-b94b-4a00-8f65-31bbaa18e172"
      },
      "execution_count": null,
      "outputs": [
        {
          "output_type": "stream",
          "name": "stdout",
          "text": [
            "4\n"
          ]
        }
      ]
    },
    {
      "cell_type": "code",
      "source": [
        "a = (1,True,3)\n",
        "\n",
        "b = (7,8,\"y\")\n",
        "\n",
        "print(a+b)"
      ],
      "metadata": {
        "id": "MQB-LB80_gmB",
        "colab": {
          "base_uri": "https://localhost:8080/"
        },
        "outputId": "97833a80-fc99-4338-ad86-fd173f2e704a"
      },
      "execution_count": null,
      "outputs": [
        {
          "output_type": "stream",
          "name": "stdout",
          "text": [
            "(1, True, 3, 7, 8, 'y')\n"
          ]
        }
      ]
    },
    {
      "cell_type": "markdown",
      "source": [
        "*   ***Dictionary***: Un *Diccionario* es una estructura de datos y un tipo de dato en Python con características especiales que nos permite almacenar cualquier tipo de valor como enteros, cadenas, listas e incluso otras funciones. Estos diccionarios nos permiten además identificar cada elemento por una clave (Key)."
      ],
      "metadata": {
        "id": "2hXiaOtH22lR"
      }
    },
    {
      "cell_type": "code",
      "source": [
        "{\n",
        "    \"Nombre\": \"Andres\"\n",
        "}\n"
      ],
      "metadata": {
        "id": "LCwwpq0sBIeE"
      },
      "execution_count": null,
      "outputs": []
    },
    {
      "cell_type": "code",
      "source": [
        "soy_un_diccionario = {\n",
        "    \n",
        "    \"Nombre\": \"Nicolas\",\n",
        "    \"Apellido\": \"Perez\"\n",
        "}\n",
        "\n",
        "soy_un_diccionario['Apellido']\n",
        "\n",
        "print(soy_un_diccionario['Apellido']) #Podemos acceder a los valores de esta forma."
      ],
      "metadata": {
        "id": "d8tRmzRYV0ZQ",
        "colab": {
          "base_uri": "https://localhost:8080/"
        },
        "outputId": "a40b937a-8c1e-4492-b304-58b725d604d4"
      },
      "execution_count": null,
      "outputs": [
        {
          "output_type": "stream",
          "name": "stdout",
          "text": [
            "Perez\n"
          ]
        }
      ]
    },
    {
      "cell_type": "code",
      "source": [
        "Notas = {\n",
        "    \n",
        "    \"Nota 1\": 4.5,\n",
        "    \"Nota 2\": 3.7,\n",
        "    \"Nota 3\": 4.0\n",
        "}\n",
        "\n",
        "print(Notas.keys()) #Obtener las llaves"
      ],
      "metadata": {
        "id": "rVWAE1b-W1Ib",
        "colab": {
          "base_uri": "https://localhost:8080/"
        },
        "outputId": "f40b52e1-90c3-4b8e-9203-c2b666511dce"
      },
      "execution_count": null,
      "outputs": [
        {
          "output_type": "stream",
          "name": "stdout",
          "text": [
            "dict_keys(['Nota 1', 'Nota 2', 'Nota 3'])\n"
          ]
        }
      ]
    },
    {
      "cell_type": "code",
      "source": [
        "Notas = {\n",
        "    \n",
        "    \"Nota 1\": 4.5,\n",
        "    \"Nota 2\": 3.7,\n",
        "    \"Nota 3\": 4.0\n",
        "}\n",
        "\n",
        "print(Notas.values()) #Obtener los valores"
      ],
      "metadata": {
        "id": "R61cBvUcWqjS",
        "colab": {
          "base_uri": "https://localhost:8080/"
        },
        "outputId": "d6fb9cac-6d28-4bbe-d1a7-bb37880efe7b"
      },
      "execution_count": null,
      "outputs": [
        {
          "output_type": "stream",
          "name": "stdout",
          "text": [
            "dict_values([4.5, 3.7, 4.0])\n"
          ]
        }
      ]
    },
    {
      "cell_type": "code",
      "source": [
        "Notas = {\n",
        "    \n",
        "    \"Nota 1\": 4.5,\n",
        "    \"Nota 2\": 3.7,\n",
        "    \"Nota 3\": 4.0\n",
        "}\n",
        "\n",
        "print(Notas.items()) #Obtener los items"
      ],
      "metadata": {
        "id": "FxyZRg4E9Jo_",
        "colab": {
          "base_uri": "https://localhost:8080/"
        },
        "outputId": "114800e1-6de5-4cbe-b01a-7edaec38fc5f"
      },
      "execution_count": null,
      "outputs": [
        {
          "output_type": "stream",
          "name": "stdout",
          "text": [
            "dict_items([('Nota 1', 4.5), ('Nota 2', 3.7), ('Nota 3', 4.0)])\n"
          ]
        }
      ]
    },
    {
      "cell_type": "code",
      "source": [
        ""
      ],
      "metadata": {
        "id": "rtpH4LzuYPdV"
      },
      "execution_count": null,
      "outputs": []
    },
    {
      "cell_type": "markdown",
      "source": [
        "***Cambiar tipos de datos***"
      ],
      "metadata": {
        "id": "ZUUF3hVGYohe"
      }
    },
    {
      "cell_type": "code",
      "source": [
        "#De entero a string\n",
        "\n",
        "\n",
        "str(12)\n",
        "\n",
        "print(\"Juan \"+\"tiene \"+str(12)+\" años\")"
      ],
      "metadata": {
        "id": "kYxXEUdfY8SR",
        "colab": {
          "base_uri": "https://localhost:8080/"
        },
        "outputId": "544f51d7-d705-4a24-db4f-7baec2f13515"
      },
      "execution_count": null,
      "outputs": [
        {
          "output_type": "stream",
          "name": "stdout",
          "text": [
            "Juan tiene 12 años\n"
          ]
        }
      ]
    },
    {
      "cell_type": "code",
      "source": [
        "#De entero a float\n",
        "\n",
        "float(160)"
      ],
      "metadata": {
        "id": "Wqg6PhW0ZOfj",
        "colab": {
          "base_uri": "https://localhost:8080/"
        },
        "outputId": "266df671-56cd-48f3-c14d-bf4ecd76072f"
      },
      "execution_count": null,
      "outputs": [
        {
          "output_type": "execute_result",
          "data": {
            "text/plain": [
              "160.0"
            ]
          },
          "metadata": {},
          "execution_count": 86
        }
      ]
    },
    {
      "cell_type": "code",
      "source": [
        "#De string a entero\n",
        "\n",
        "int('1223')\n",
        "\n",
        "print(34+int('1223'))"
      ],
      "metadata": {
        "id": "Gknu4qDqZh05",
        "colab": {
          "base_uri": "https://localhost:8080/"
        },
        "outputId": "2c91bbf7-c56b-47d6-daa1-2149c988eb48"
      },
      "execution_count": null,
      "outputs": [
        {
          "output_type": "stream",
          "name": "stdout",
          "text": [
            "1257\n"
          ]
        }
      ]
    },
    {
      "cell_type": "markdown",
      "source": [
        "# ***Variables***\n"
      ],
      "metadata": {
        "id": "e7mNRQjYqPPu"
      }
    },
    {
      "cell_type": "code",
      "source": [
        "a = \"Hola, \"\n",
        "\n",
        "print(a)\n"
      ],
      "metadata": {
        "id": "HuEQU4kQqZmp",
        "colab": {
          "base_uri": "https://localhost:8080/"
        },
        "outputId": "d85301d9-e975-45de-a406-93a0e9c863f6"
      },
      "execution_count": null,
      "outputs": [
        {
          "output_type": "stream",
          "name": "stdout",
          "text": [
            "Hola, \n"
          ]
        }
      ]
    },
    {
      "cell_type": "code",
      "source": [
        "saludo = \"¿Cómo estás el día de hoy?\"\n",
        "\n"
      ],
      "metadata": {
        "id": "wFjq945aaQUl"
      },
      "execution_count": null,
      "outputs": []
    },
    {
      "cell_type": "code",
      "source": [
        "number = 12348696398638926483264829468329"
      ],
      "metadata": {
        "id": "0hSs42ndaVkt"
      },
      "execution_count": null,
      "outputs": []
    },
    {
      "cell_type": "code",
      "source": [
        "flotante_1 = 2345.65656"
      ],
      "metadata": {
        "id": "zB9Dpj3uacTr"
      },
      "execution_count": null,
      "outputs": []
    },
    {
      "cell_type": "code",
      "source": [
        "mi_diccionario_3 = {\n",
        "    \n",
        "    \"Pais\": \"Colombia\",\n",
        "    \"Capital\":\"Bogotá\",\n",
        "    \"No_habitantes\": 50880000}"
      ],
      "metadata": {
        "id": "zvaiKGTPahPy"
      },
      "execution_count": null,
      "outputs": []
    },
    {
      "cell_type": "code",
      "source": [
        "color_1 = \"Azul\"\n",
        "\n",
        "color_2 = \"Verde\"\n",
        "\n",
        "color_3 = \"Rosa\"\n",
        "\n",
        "lista_1 = [[1,2],[3,4]]\n",
        "\n",
        "lista_1[0][1]\n"
      ],
      "metadata": {
        "id": "8AJMwPbl7uB6",
        "colab": {
          "base_uri": "https://localhost:8080/"
        },
        "outputId": "3ad625ac-6c99-4d7a-e413-a4254b83680b"
      },
      "execution_count": null,
      "outputs": [
        {
          "output_type": "execute_result",
          "data": {
            "text/plain": [
              "2"
            ]
          },
          "metadata": {},
          "execution_count": 98
        }
      ]
    },
    {
      "cell_type": "code",
      "source": [
        "a = [1,2,3]\n",
        "b = [4,5,6]\n",
        "c = []\n",
        "\n",
        "for i in range(3): #range(3) = (0,1,2)\n",
        "  c.append(a[i]+b[i])\n",
        "print(c)\n"
      ],
      "metadata": {
        "colab": {
          "base_uri": "https://localhost:8080/"
        },
        "id": "Pg2nbkqulD2o",
        "outputId": "6b9c32ce-8cc3-4263-a254-ab7ef72befe1"
      },
      "execution_count": null,
      "outputs": [
        {
          "output_type": "stream",
          "name": "stdout",
          "text": [
            "[5, 7, 9]\n"
          ]
        }
      ]
    },
    {
      "cell_type": "code",
      "source": [
        "a = 2578765645434524578678678\n",
        "\n",
        "b = 4554345667\n",
        "\n",
        "print(a+b)\n"
      ],
      "metadata": {
        "id": "cXKW_NEv6N1D",
        "colab": {
          "base_uri": "https://localhost:8080/"
        },
        "outputId": "2fbb4fe7-05bd-44b6-bc31-2acebfbe92a3"
      },
      "execution_count": null,
      "outputs": [
        {
          "output_type": "stream",
          "name": "stdout",
          "text": [
            "2578765645434529133024345\n"
          ]
        }
      ]
    },
    {
      "cell_type": "markdown",
      "source": [
        "# ***Entrada por teclado - Función Input()***"
      ],
      "metadata": {
        "id": "-UcX1HND1c2g"
      }
    },
    {
      "cell_type": "code",
      "source": [
        "Edad_usuario = input(\"Ingresa tu edad: \")\n",
        "\n",
        "print(Edad_usuario)"
      ],
      "metadata": {
        "id": "dWSZFNx2b_bE",
        "colab": {
          "base_uri": "https://localhost:8080/"
        },
        "outputId": "2c653fc9-caa5-4cce-d576-7e19fc7f70f9"
      },
      "execution_count": null,
      "outputs": [
        {
          "output_type": "stream",
          "name": "stdout",
          "text": [
            "Ingresa tu edad: 55\n",
            "55\n"
          ]
        }
      ]
    },
    {
      "cell_type": "code",
      "source": [
        "Edad_usuario = input(\"Ingresa tu edad: \")\n",
        "\n",
        "print(\"Tienes \" + Edad_usuario + \" años.\")"
      ],
      "metadata": {
        "colab": {
          "base_uri": "https://localhost:8080/"
        },
        "id": "-pRssmYYMPx6",
        "outputId": "32b5fc4c-83de-44ee-d420-ca916a81f621"
      },
      "execution_count": null,
      "outputs": [
        {
          "output_type": "stream",
          "name": "stdout",
          "text": [
            "Ingresa tu edad: 23\n",
            "Tienes 23 años.\n"
          ]
        }
      ]
    },
    {
      "cell_type": "code",
      "source": [
        "Edad_usuario = input(\"Ingresa tu edad: \")\n",
        "type(Edad_usuario)"
      ],
      "metadata": {
        "colab": {
          "base_uri": "https://localhost:8080/"
        },
        "id": "PtA7afEzNkym",
        "outputId": "18d0bc82-d3f3-45ce-e7fc-c1f8b9cf8fbb"
      },
      "execution_count": null,
      "outputs": [
        {
          "name": "stdout",
          "output_type": "stream",
          "text": [
            "Ingresa tu edad: 45\n"
          ]
        },
        {
          "output_type": "execute_result",
          "data": {
            "text/plain": [
              "str"
            ]
          },
          "metadata": {},
          "execution_count": 105
        }
      ]
    },
    {
      "cell_type": "code",
      "source": [
        "Nota_1 = int(input(\"Ingresa la primer nota del curso: \")) #Solicitamos por teclado un valor\n",
        "\n",
        "Nota_2 = int(input(\"Ingresa la segunda nota del curso: \")) #Solicitamos por teclado un valor\n",
        "\n",
        "Nota_3 = int(input(\"Ingresa la tercer nota del curso: \")) #Solicitamos por teclado un valor\n",
        "\n",
        "Nota_final = (Nota_1 + Nota_2 + Nota_3)/3 #Realizamos el proceso para obtener el promedio de las notas\n",
        "\n",
        "print(Nota_final) #Imprimimos el resultado"
      ],
      "metadata": {
        "id": "GmR5ooeypYEW",
        "colab": {
          "base_uri": "https://localhost:8080/"
        },
        "outputId": "1547e187-999d-41dd-ece6-75d3469e2e76"
      },
      "execution_count": null,
      "outputs": [
        {
          "output_type": "stream",
          "name": "stdout",
          "text": [
            "Ingresa la primer nota del curso: 34\n",
            "Ingresa la segunda nota del curso: 50\n",
            "Ingresa la tercer nota del curso: 23\n",
            "35.666666666666664\n"
          ]
        }
      ]
    },
    {
      "cell_type": "markdown",
      "source": [
        "***Ejercicio :*** Escribir un programa que pregunte al usuario por el número de horas trabajadas y el coste por hora. Después debe mostrar por pantalla la paga que le corresponde."
      ],
      "metadata": {
        "id": "9cg5qoMAyCKU"
      }
    },
    {
      "cell_type": "code",
      "source": [
        "#Instrucciones\n",
        "\n",
        "# Horas_trabajadas -> input\n",
        "# Costo_hora -> input\n",
        "# paga_total = \n",
        "\n",
        "#print()\n"
      ],
      "metadata": {
        "id": "k-w0A7qC8idg"
      },
      "execution_count": null,
      "outputs": []
    },
    {
      "cell_type": "markdown",
      "source": [
        "# ***Condicional: If-Else:***"
      ],
      "metadata": {
        "id": "8T154T8r5a8y"
      }
    },
    {
      "cell_type": "code",
      "source": [
        "numero = 5\n",
        "\n",
        "if numero > 3:\n",
        "  print(\"La sentencia es verdadera.\")"
      ],
      "metadata": {
        "id": "zhf8GhXFAL3-",
        "colab": {
          "base_uri": "https://localhost:8080/"
        },
        "outputId": "28c21c0b-5faf-487b-97be-6500c790f00f"
      },
      "execution_count": null,
      "outputs": [
        {
          "output_type": "stream",
          "name": "stdout",
          "text": [
            "La sentencia es verdadera.\n"
          ]
        }
      ]
    },
    {
      "cell_type": "code",
      "source": [
        "Nota = 3.7\n",
        "\n",
        "if Nota > 3.0:\n",
        "  print(\"Aprobó el examen.\")"
      ],
      "metadata": {
        "id": "TO1SRdKcBfI-",
        "colab": {
          "base_uri": "https://localhost:8080/"
        },
        "outputId": "bb73d510-9eeb-403d-89aa-bf68c9d7cc0e"
      },
      "execution_count": null,
      "outputs": [
        {
          "output_type": "stream",
          "name": "stdout",
          "text": [
            "Aprobó el examen.\n"
          ]
        }
      ]
    },
    {
      "cell_type": "code",
      "source": [
        "Color = \"Verde\"\n",
        "\n",
        "if Color == \"Rosado\":\n",
        "  print(\"El color es rosado.\")"
      ],
      "metadata": {
        "id": "ab7ddPbfE0SD"
      },
      "execution_count": null,
      "outputs": []
    },
    {
      "cell_type": "code",
      "source": [
        "Nota_1 = 1.5\n",
        "\n",
        "Nota_2 = 4.2\n",
        "\n",
        "Nota_3 = 2.5\n",
        "\n",
        "if (Nota_1 + Nota_2 + Nota_3)/3 >= 3.0:\n",
        "  print(\"Aprobó el curso.\")"
      ],
      "metadata": {
        "id": "K3PlVdPvCpBD"
      },
      "execution_count": null,
      "outputs": []
    },
    {
      "cell_type": "code",
      "source": [
        "x = 6\n",
        "\n",
        "if x > 3:\n",
        "  print(\"La sentencia es verdadera.\")\n",
        "else:\n",
        "  print(\"La sentencia es falsa.\")"
      ],
      "metadata": {
        "id": "rLBkmY56HwMh",
        "colab": {
          "base_uri": "https://localhost:8080/"
        },
        "outputId": "3ce40ff8-0dd3-45b7-dbba-2eb0fe9f27b9"
      },
      "execution_count": null,
      "outputs": [
        {
          "output_type": "stream",
          "name": "stdout",
          "text": [
            "La sentencia es verdadera.\n"
          ]
        }
      ]
    },
    {
      "cell_type": "code",
      "source": [
        "Nota_1 = 3.4\n",
        "\n",
        "Nota_2 = 1.7\n",
        "\n",
        "Nota_3 = 2.4\n",
        "\n",
        "if (Nota_1 + Nota_2 + Nota_3)/3 >= 3.0:\n",
        "  print(\"Aprobó el curso\")\n",
        "else:\n",
        "  print(\"Debes repetir el curso.\")"
      ],
      "metadata": {
        "id": "YsTiz9ToDPd2",
        "colab": {
          "base_uri": "https://localhost:8080/"
        },
        "outputId": "866a5d5d-fe04-4358-bcbf-575d3ccafbf8"
      },
      "execution_count": null,
      "outputs": [
        {
          "output_type": "stream",
          "name": "stdout",
          "text": [
            "Debes repetir el curso.\n"
          ]
        }
      ]
    },
    {
      "cell_type": "code",
      "source": [
        "Color_1 = \"Gris\"\n",
        "\n",
        "Color_2 = \"Verde\"\n",
        "\n",
        "if Color_1 == \"Azul\" and Color_2 == \"Verde\":\n",
        "  print(\"La sentencia es verdadera.\")\n",
        "else:\n",
        "  print(\"Otros colores.\")"
      ],
      "metadata": {
        "id": "zbYATsqKRqMR",
        "colab": {
          "base_uri": "https://localhost:8080/"
        },
        "outputId": "deab3afb-c042-466d-81e8-43cd1bd1d00b"
      },
      "execution_count": null,
      "outputs": [
        {
          "output_type": "stream",
          "name": "stdout",
          "text": [
            "Otros colores.\n"
          ]
        }
      ]
    },
    {
      "cell_type": "code",
      "source": [
        "Color_1 = \"Gris\"\n",
        "\n",
        "Color_2 = \"Rosado\"\n",
        "\n",
        "if Color_1 == \"Azul\" or Color_2 == \"Verde\":\n",
        "  print(\"La sentencia es verdadera.\")\n",
        "else:\n",
        "  print(\"Otros colores\")"
      ],
      "metadata": {
        "id": "a9GkCJcgSoDH",
        "colab": {
          "base_uri": "https://localhost:8080/"
        },
        "outputId": "df28b74f-383d-4867-a679-5b12336f70a5"
      },
      "execution_count": null,
      "outputs": [
        {
          "output_type": "stream",
          "name": "stdout",
          "text": [
            "Otros colores\n"
          ]
        }
      ]
    },
    {
      "cell_type": "markdown",
      "source": [
        "***Ejercicio:*** Escribir un programa que pregunte al usuario su edad y muestre por pantalla si es mayor de edad o no."
      ],
      "metadata": {
        "id": "xQuZRGf124Cv"
      }
    },
    {
      "cell_type": "code",
      "source": [
        "#Solución\n",
        "\n",
        "#edad_usuario -> input\n",
        "\n",
        "#if edad_usuario >= 18:\n",
        "#------\n",
        "#else:\n",
        "#-----\n"
      ],
      "metadata": {
        "id": "WRae6nRf8fTF"
      },
      "execution_count": null,
      "outputs": []
    },
    {
      "cell_type": "markdown",
      "source": [
        "***Ejercicio:*** Escribir un programa que pida al usuario un número entero y muestre por pantalla si es par o impar."
      ],
      "metadata": {
        "id": "6wmaohcf4V1I"
      }
    },
    {
      "cell_type": "code",
      "source": [
        "#Solución\n",
        "\n",
        "#44%2=0 ->par\n",
        "\n",
        "#45%2=1 -> impar\n",
        "\n"
      ],
      "metadata": {
        "id": "sTKFSNvb8hWO"
      },
      "execution_count": null,
      "outputs": []
    },
    {
      "cell_type": "markdown",
      "source": [
        "# ***Bucles: For-While:*** El bucle *for* se utiliza para recorrer los elementos de un objeto iterable (lista, tupla, conjunto, diccionario, …) y ejecutar un bloque de código. El bucle while evalúa una condición y luego ejecuta un bloque de código si la condición es verdadera."
      ],
      "metadata": {
        "id": "-vp-FntOT8lp"
      }
    },
    {
      "cell_type": "code",
      "source": [
        "numbers = [2,4,6,8,10,12,14,16]\n",
        "for i in numbers:\n",
        "  print(i)"
      ],
      "metadata": {
        "id": "wBjVDUjiUwkh",
        "colab": {
          "base_uri": "https://localhost:8080/"
        },
        "outputId": "39e4e034-4972-4a2b-c79c-77a5f4eac5db"
      },
      "execution_count": null,
      "outputs": [
        {
          "output_type": "stream",
          "name": "stdout",
          "text": [
            "2\n",
            "4\n",
            "6\n",
            "8\n",
            "10\n",
            "12\n",
            "14\n",
            "16\n"
          ]
        }
      ]
    },
    {
      "cell_type": "code",
      "source": [
        "for i in [2,3,4,5,6,7,8,9,10]:\n",
        "  print(i**2)"
      ],
      "metadata": {
        "id": "tFss3XilVZTV",
        "colab": {
          "base_uri": "https://localhost:8080/"
        },
        "outputId": "830d85f7-ab65-4b89-825c-6523418a7057"
      },
      "execution_count": null,
      "outputs": [
        {
          "output_type": "stream",
          "name": "stdout",
          "text": [
            "4\n",
            "9\n",
            "16\n",
            "25\n",
            "36\n",
            "49\n",
            "64\n",
            "81\n",
            "100\n"
          ]
        }
      ]
    },
    {
      "cell_type": "code",
      "source": [
        "colores = [\"Amarillo\",\"Azul\",\"Rojo\"]\n",
        "for i in colores:\n",
        "  print(i)"
      ],
      "metadata": {
        "id": "qFhVluZxWfRx",
        "colab": {
          "base_uri": "https://localhost:8080/"
        },
        "outputId": "f9ab2c38-b5ad-4f4a-ed83-d38b2bb038f1"
      },
      "execution_count": null,
      "outputs": [
        {
          "output_type": "stream",
          "name": "stdout",
          "text": [
            "Amarillo\n",
            "Azul\n",
            "Rojo\n"
          ]
        }
      ]
    },
    {
      "cell_type": "code",
      "source": [
        "for i in range(5): #range(5)=(0,1,2,3,4)\n",
        "    print(i)"
      ],
      "metadata": {
        "id": "A5RCCb_BXPVy",
        "colab": {
          "base_uri": "https://localhost:8080/"
        },
        "outputId": "9473cd30-9adf-4826-fc56-299ba79c6d0d"
      },
      "execution_count": null,
      "outputs": [
        {
          "output_type": "stream",
          "name": "stdout",
          "text": [
            "0\n",
            "1\n",
            "2\n",
            "3\n",
            "4\n"
          ]
        }
      ]
    },
    {
      "cell_type": "code",
      "source": [
        "x = 10\n",
        "\n",
        "while x < 20:\n",
        "  print(\"Hola\")\n",
        "  x = x+10"
      ],
      "metadata": {
        "id": "cujrDgpXf1V8",
        "colab": {
          "base_uri": "https://localhost:8080/"
        },
        "outputId": "41d74532-9e49-40af-b80c-eba8f4e99e07"
      },
      "execution_count": null,
      "outputs": [
        {
          "output_type": "stream",
          "name": "stdout",
          "text": [
            "Hola\n"
          ]
        }
      ]
    },
    {
      "cell_type": "code",
      "source": [
        "numero = int(input(\"Ingrese un número positivo: \"))\n",
        "\n",
        "while numero > 0:\n",
        "  print(numero)\n",
        "  numero = numero - 1"
      ],
      "metadata": {
        "id": "Dk9GxiK_g_3N",
        "colab": {
          "base_uri": "https://localhost:8080/"
        },
        "outputId": "7b6482a2-5b9f-4b5c-e235-b529b7e3d99c"
      },
      "execution_count": null,
      "outputs": [
        {
          "output_type": "stream",
          "name": "stdout",
          "text": [
            "Ingrese un número positivo: 4\n",
            "4\n",
            "3\n",
            "2\n",
            "1\n"
          ]
        }
      ]
    },
    {
      "cell_type": "markdown",
      "source": [
        "***Ejercicio:*** Escribir un programa que pida al usuario una palabra y la muestre por pantalla 10 veces."
      ],
      "metadata": {
        "id": "u_KXg8h-51ew"
      }
    },
    {
      "cell_type": "code",
      "source": [
        "#input()\n",
        "#for i in []:\n",
        "#"
      ],
      "metadata": {
        "id": "52LEa1Fi8eRZ"
      },
      "execution_count": null,
      "outputs": []
    },
    {
      "cell_type": "markdown",
      "source": [
        "# ***Funciones***"
      ],
      "metadata": {
        "id": "qdYigqnvt8OT"
      }
    },
    {
      "cell_type": "code",
      "source": [
        " def sumar(a,b):\n",
        "  return(a+b)\n",
        "\n",
        "print(sumar(5,6))"
      ],
      "metadata": {
        "colab": {
          "base_uri": "https://localhost:8080/"
        },
        "id": "5fwMOzDca-cu",
        "outputId": "f6ac794e-2375-49c0-bc36-7568a96f5868"
      },
      "execution_count": null,
      "outputs": [
        {
          "output_type": "stream",
          "name": "stdout",
          "text": [
            "11\n"
          ]
        }
      ]
    },
    {
      "cell_type": "code",
      "source": [
        "def restar(a,b):\n",
        "  return(a-b)\n",
        "\n",
        "print(restar(78,5))"
      ],
      "metadata": {
        "colab": {
          "base_uri": "https://localhost:8080/"
        },
        "id": "zes8uhBuuBJ9",
        "outputId": "9edf3f1d-a9f4-40fb-df0b-4cfe3ad7ea2d"
      },
      "execution_count": null,
      "outputs": [
        {
          "output_type": "stream",
          "name": "stdout",
          "text": [
            "73\n"
          ]
        }
      ]
    },
    {
      "cell_type": "code",
      "source": [
        "def saludar():\n",
        "  return(\"Hola como estás?\")\n",
        "\n",
        "print(saludar())"
      ],
      "metadata": {
        "colab": {
          "base_uri": "https://localhost:8080/"
        },
        "id": "anP0IarYbQKE",
        "outputId": "1f0c1108-4b44-4ff6-8242-5ec327942916"
      },
      "execution_count": null,
      "outputs": [
        {
          "output_type": "stream",
          "name": "stdout",
          "text": [
            "Hola como estás?\n"
          ]
        }
      ]
    },
    {
      "cell_type": "code",
      "source": [
        "a = int(input(\"Ingrese un número: \"))\n",
        "b = int(input(\"Ingrese un número: \"))\n",
        "\n",
        "def funtc(a,b):\n",
        "  return(a-b)\n",
        "\n",
        "print(funtc(a,b))"
      ],
      "metadata": {
        "colab": {
          "base_uri": "https://localhost:8080/"
        },
        "id": "GWXUwrtvwZ8t",
        "outputId": "15605ba8-ecb1-428e-f21f-c7cc2dc095f6"
      },
      "execution_count": null,
      "outputs": [
        {
          "output_type": "stream",
          "name": "stdout",
          "text": [
            "Ingrese un número: 4\n",
            "Ingrese un número: 3\n",
            "1\n"
          ]
        }
      ]
    },
    {
      "cell_type": "markdown",
      "source": [
        "***Ejercicio 1:*** Realizar una función que multiplique dos valores dados.\n",
        "\n",
        "\n"
      ],
      "metadata": {
        "id": "6bayeq3Ou8HW"
      }
    },
    {
      "cell_type": "code",
      "source": [
        ""
      ],
      "metadata": {
        "id": "fB2SUB4YuvqC"
      },
      "execution_count": null,
      "outputs": []
    },
    {
      "cell_type": "markdown",
      "source": [
        "***Ejercicio 2:*** Realizar una función que eleve al cuadrado un valor dado."
      ],
      "metadata": {
        "id": "lfy81aLUvcMG"
      }
    },
    {
      "cell_type": "code",
      "source": [
        ""
      ],
      "metadata": {
        "id": "XdiRVZh8vt8Z"
      },
      "execution_count": null,
      "outputs": []
    },
    {
      "cell_type": "markdown",
      "source": [
        "***Ejercicio 3:*** Realizar una función que pida por teclado dos valores e imprima la suma de los dos valores al cuadrado. (a+b)^2\n"
      ],
      "metadata": {
        "id": "k47rr68yxO_2"
      }
    },
    {
      "cell_type": "code",
      "source": [
        ""
      ],
      "metadata": {
        "id": "cP-xZxDvxSPz"
      },
      "execution_count": null,
      "outputs": []
    }
  ]
}